{
 "cells": [
  {
   "cell_type": "code",
   "execution_count": 3,
   "id": "0eec0db5-fe69-4b23-a1d3-3160e943296a",
   "metadata": {},
   "outputs": [],
   "source": [
    "from gymnasium import Env, spaces\n",
    "import numpy as np\n",
    "\n",
    "class CustomEnv(Env):\n",
    "    def __init__(self):\n",
    "        super().__init__()\n",
    "        self.observation_space = spaces.Discrete(20)\n",
    "        self.action_space=spaces.Discrete(2)\n",
    "        self.state=0\n",
    "    def reset(self, seed=None, options=None):\n",
    "        self.state=0\n",
    "        return self.state, {}\n",
    "    def step(self, action):\n",
    "        self.state = min(self.state + action, 19)\n",
    "        reward = 1 if self.state == 19 else 0\n",
    "        done = self.state == 19\n",
    "        return self.state, reward, done, False, {}\n",
    "    def render(self):\n",
    "        print(f\"Estado actual: {self.state}\")"
   ]
  },
  {
   "cell_type": "code",
   "execution_count": 4,
   "id": "54e6b5b6-4f4d-4526-8cf2-02d791d51bef",
   "metadata": {},
   "outputs": [
    {
     "name": "stdout",
     "output_type": "stream",
     "text": [
      "Estado actual: 1\n",
      "Estado actual: 1\n",
      "Estado actual: 1\n",
      "Estado actual: 2\n",
      "Estado actual: 2\n",
      "Estado actual: 3\n",
      "Estado actual: 3\n",
      "Estado actual: 3\n",
      "Estado actual: 4\n",
      "Estado actual: 4\n",
      "Estado actual: 4\n",
      "Estado actual: 5\n",
      "Estado actual: 6\n",
      "Estado actual: 7\n",
      "Estado actual: 8\n",
      "Estado actual: 9\n",
      "Estado actual: 10\n",
      "Estado actual: 10\n",
      "Estado actual: 10\n",
      "Estado actual: 10\n",
      "Estado actual: 11\n",
      "Estado actual: 11\n",
      "Estado actual: 11\n",
      "Estado actual: 12\n",
      "Estado actual: 13\n",
      "Estado actual: 14\n",
      "Estado actual: 14\n",
      "Estado actual: 15\n",
      "Estado actual: 15\n",
      "Estado actual: 15\n",
      "Estado actual: 16\n",
      "Estado actual: 17\n",
      "Estado actual: 18\n",
      "Estado actual: 18\n",
      "Estado actual: 19\n"
     ]
    }
   ],
   "source": [
    "# Crear el entorno\n",
    "env = CustomEnv()\n",
    "\n",
    "# Reiniciar el entorno\n",
    "obs, _ = env.reset()\n",
    "done = False\n",
    "\n",
    "# Simular una ejecución\n",
    "while not done:\n",
    "    action = env.action_space.sample()  # Selecciona una acción aleatoria\n",
    "    obs, reward, done, _, _ = env.step(action)\n",
    "    env.render()  # Muestra el estado actual en consola\n",
    "\n",
    "env.close()"
   ]
  },
  {
   "cell_type": "code",
   "execution_count": null,
   "id": "ba25f6db-5ce1-426b-aaa5-391d2fec3ed7",
   "metadata": {},
   "outputs": [],
   "source": []
  }
 ],
 "metadata": {
  "kernelspec": {
   "display_name": "Python [conda env:base] *",
   "language": "python",
   "name": "conda-base-py"
  },
  "language_info": {
   "codemirror_mode": {
    "name": "ipython",
    "version": 3
   },
   "file_extension": ".py",
   "mimetype": "text/x-python",
   "name": "python",
   "nbconvert_exporter": "python",
   "pygments_lexer": "ipython3",
   "version": "3.12.7"
  }
 },
 "nbformat": 4,
 "nbformat_minor": 5
}
